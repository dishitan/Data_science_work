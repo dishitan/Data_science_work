{
 "cells": [
  {
   "cell_type": "code",
   "execution_count": 6,
   "id": "64004484-90e9-48dc-91f3-08f3043ce3fa",
   "metadata": {},
   "outputs": [],
   "source": [
    "import warnings\n",
    "warnings.filterwarnings('ignore')"
   ]
  },
  {
   "cell_type": "code",
   "execution_count": 2,
   "id": "ea71460e-563c-408e-b36d-71e6f8d2ced3",
   "metadata": {},
   "outputs": [],
   "source": [
    "import pymysql"
   ]
  },
  {
   "cell_type": "code",
   "execution_count": 3,
   "id": "436ba039-cf4c-4595-925b-714a98b1ab28",
   "metadata": {},
   "outputs": [],
   "source": [
    "dbcon =pymysql.connect(host=\"localhost\",user=\"root\",password=\"Shub1203$\",database=\"library_sys\")"
   ]
  },
  {
   "cell_type": "code",
   "execution_count": 4,
   "id": "e6fecb46-3191-4507-b7e4-bef011ae2207",
   "metadata": {},
   "outputs": [
    {
     "data": {
      "text/plain": [
       "<pymysql.connections.Connection at 0x2cb0c693df0>"
      ]
     },
     "execution_count": 4,
     "metadata": {},
     "output_type": "execute_result"
    }
   ],
   "source": [
    "dbcon"
   ]
  },
  {
   "cell_type": "code",
   "execution_count": 10,
   "id": "949cd8cb-327f-4f93-b3a1-340f2d26142f",
   "metadata": {},
   "outputs": [
    {
     "name": "stdout",
     "output_type": "stream",
     "text": [
      "\n",
      "--- First 5 rows of 'Books' table ---\n",
      " book_id                 title              author  is_available\n",
      "       1 To Kill a Mockingbird          Harper Lee             1\n",
      "       2                  1984       George Orwell             1\n",
      "       3      The Great Gatsby F. Scott Fitzgerald             0\n",
      "       4             Moby Dick     Herman Melville             1\n",
      "       5   Pride and Prejudice         Jane Austen             0\n",
      "----------------------------------------\n",
      "\n",
      "--- First 5 rows of 'Members' table ---\n",
      " member_id first_name last_name                 email\n",
      "         1      Alice     Smith alice.smith@email.com\n",
      "         2        Bob   Johnson       bob.j@email.com\n",
      "         3    Charlie     Brown   charlie.b@email.com\n",
      "         4      Diana    Prince     diana.p@email.com\n",
      "         5     Edward    Norton    edward.n@email.com\n",
      "----------------------------------------\n",
      "\n",
      "--- First 5 rows of 'BorrowRecords' table ---\n",
      " record_id  book_id  member_id borrow_date return_date\n",
      "         1        3          1  2025-08-01        None\n",
      "         2        5          2  2025-08-05        None\n",
      "         3        8          3  2025-08-08        None\n",
      "         4       12          4  2025-08-10        None\n",
      "         5        1          5  2025-07-20  2025-08-05\n",
      "----------------------------------------\n"
     ]
    }
   ],
   "source": [
    "import pandas as pd\n",
    "tables = [\"Books\", \"Members\", \"BorrowRecords\"]\n",
    "for table_name in tables:\n",
    "        # Construct the query to select the first 5 rows\n",
    "        query = f\"SELECT * FROM {table_name} LIMIT 5;\"\n",
    "        \n",
    "        # read the SQL query into a DataFrame\n",
    "        df = pd.read_sql(query, dbcon)\n",
    "        \n",
    "        # Display the DataFrame\n",
    "        print(f\"\\n--- First 5 rows of '{table_name}' table ---\")\n",
    "        print(df.to_string(index=False)) # Use .to_string() for clean display\n",
    "        print(\"-\" * 40)\n",
    "\n",
    "    "
   ]
  },
  {
   "cell_type": "code",
   "execution_count": 14,
   "id": "a9ea2b84-f0c3-4868-b449-568cacea25c5",
   "metadata": {},
   "outputs": [
    {
     "name": "stdout",
     "output_type": "stream",
     "text": [
      "Available Books\n",
      "                        title                 author\n",
      "        To Kill a Mockingbird             Harper Lee\n",
      "                         1984          George Orwell\n",
      "                    Moby Dick        Herman Melville\n",
      "       The Catcher in the Rye          J.D. Salinger\n",
      "                   The Hobbit         J.R.R. Tolkien\n",
      "              Brave New World          Aldous Huxley\n",
      "One Hundred Years of Solitude Gabriel Garcia Marquez\n",
      "        The Lord of the Rings         J.R.R. Tolkien\n"
     ]
    }
   ],
   "source": [
    "#all books that are currently available\n",
    "query_2 = \"SELECT title, author FROM Books WHERE is_available = 1;\"\n",
    "df_2 = pd.read_sql(query_2, dbcon)\n",
    "print(\"Available Books\")\n",
    "print(df_2.to_string(index=False))"
   ]
  },
  {
   "cell_type": "code",
   "execution_count": 15,
   "id": "84855043-9f6f-487d-87d1-ed237403d542",
   "metadata": {},
   "outputs": [
    {
     "name": "stdout",
     "output_type": "stream",
     "text": [
      "All Books\n",
      " book_id                         title                 author  is_available\n",
      "       1         To Kill a Mockingbird             Harper Lee             1\n",
      "       2                          1984          George Orwell             1\n",
      "       3              The Great Gatsby    F. Scott Fitzgerald             0\n",
      "       4                     Moby Dick        Herman Melville             1\n",
      "       5           Pride and Prejudice            Jane Austen             0\n",
      "       6        The Catcher in the Rye          J.D. Salinger             1\n",
      "       7                    The Hobbit         J.R.R. Tolkien             1\n",
      "       8                Fahrenheit 451           Ray Bradbury             0\n",
      "       9               Brave New World          Aldous Huxley             1\n",
      "      10 One Hundred Years of Solitude Gabriel Garcia Marquez             1\n",
      "      11         The Lord of the Rings         J.R.R. Tolkien             1\n",
      "      12                 The Alchemist           Paulo Coelho             0\n"
     ]
    }
   ],
   "source": [
    "# all information about every book \n",
    "query_1 = \"SELECT * FROM Books;\"\n",
    "df_1 = pd.read_sql(query_1, dbcon)\n",
    "print(\"All Books\")\n",
    "print(df_1.to_string(index=False))\n",
    "\n"
   ]
  },
  {
   "cell_type": "code",
   "execution_count": null,
   "id": "ee0d0b56-51bc-4736-a0bd-dbf28f6c972f",
   "metadata": {},
   "outputs": [],
   "source": []
  }
 ],
 "metadata": {
  "kernelspec": {
   "display_name": "Python 3 (ipykernel)",
   "language": "python",
   "name": "python3"
  },
  "language_info": {
   "codemirror_mode": {
    "name": "ipython",
    "version": 3
   },
   "file_extension": ".py",
   "mimetype": "text/x-python",
   "name": "python",
   "nbconvert_exporter": "python",
   "pygments_lexer": "ipython3",
   "version": "3.9.12"
  }
 },
 "nbformat": 4,
 "nbformat_minor": 5
}
